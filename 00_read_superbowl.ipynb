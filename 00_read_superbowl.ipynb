{
 "cells": [
  {
   "cell_type": "code",
   "execution_count": 72,
   "metadata": {},
   "outputs": [
    {
     "name": "stdout",
     "output_type": "stream",
     "text": [
      "NFL - Super Bowl\n"
     ]
    }
   ],
   "source": [
    "print(\"NFL - Super Bowl\")"
   ]
  },
  {
   "cell_type": "code",
   "execution_count": 73,
   "metadata": {},
   "outputs": [],
   "source": [
    "import duckdb\n",
    "import pandas as pd"
   ]
  },
  {
   "cell_type": "code",
   "execution_count": 74,
   "metadata": {},
   "outputs": [
    {
     "data": {
      "text/plain": [
       "┌─────────────┬─────────────┬──────────────────────┬───┬──────────────────────┬─────────────────┬────────────┐\n",
       "│    Date     │     SB      │        Winner        │ … │       Stadium        │      City       │   State    │\n",
       "│   varchar   │   varchar   │       varchar        │   │       varchar        │     varchar     │  varchar   │\n",
       "├─────────────┼─────────────┼──────────────────────┼───┼──────────────────────┼─────────────────┼────────────┤\n",
       "│ Feb 2 2020  │ LIV (54)    │ Kansas City Chiefs   │ … │ Hard Rock Stadium    │ Miami Gardens   │ Florida    │\n",
       "│ Feb 3 2019  │ LIII (53)   │ New England Patriots │ … │ Mercedes-Benz Stad…  │ Atlanta         │ Georgia    │\n",
       "│ Feb 4 2018  │ LII (52)    │ Philadelphia Eagles  │ … │ U.S. Bank Stadium    │ Minneapolis     │ Minnesota  │\n",
       "│ Feb 5 2017  │ LI (51)     │ New England Patriots │ … │ NRG Stadium          │ Houston         │ Texas      │\n",
       "│ Feb 7 2016  │ 50          │ Denver Broncos       │ … │ Levi's Stadium       │ Santa Clara     │ California │\n",
       "│ Feb 1 2015  │ XLIX (49)   │ New England Patriots │ … │ University of Phoe…  │ Glendale        │ Arizona    │\n",
       "│ Feb 2 2014  │ XLVIII (48) │ Seattle Seahawks     │ … │ MetLife Stadium      │ East Rutherford │ New Jersey │\n",
       "│ Feb 3 2013  │ XLVII (47)  │ Baltimore Ravens     │ … │ Mercedes-Benz Supe…  │ New Orleans     │ Louisiana  │\n",
       "│ Feb 5 2012  │ XLVI (46)   │ New York Giants      │ … │ Lucas Oil Stadium    │ Indianapolis    │ Indiana    │\n",
       "│ Feb 6 2011  │ XLV (45)    │ Green Bay Packers    │ … │ Cowboys Stadium      │ Arlington       │ Texas      │\n",
       "│     ·       │   ·         │         ·            │ · │      ·               │   ·             │   ·        │\n",
       "│     ·       │   ·         │         ·            │ · │      ·               │   ·             │   ·        │\n",
       "│     ·       │   ·         │         ·            │ · │      ·               │   ·             │   ·        │\n",
       "│ Jan 18 1976 │ X (10)      │ Pittsburgh Steelers  │ … │ Orange Bowl          │ Miami           │ Florida    │\n",
       "│ Jan 12 1975 │ IX (9)      │ Pittsburgh Steelers  │ … │ Tulane Stadium       │ New Orleans     │ Louisiana  │\n",
       "│ Jan 13 1974 │ VIII (8)    │ Miami Dolphins       │ … │ Rice Stadium         │ Houston         │ Texas      │\n",
       "│ Jan 14 1973 │ VII (7)     │ Miami Dolphins       │ … │ Memorial Coliseum    │ Los Angeles     │ California │\n",
       "│ Jan 16 1972 │ VI (6)      │ Dallas Cowboys       │ … │ Tulane Stadium       │ New Orleans     │ Louisiana  │\n",
       "│ Jan 17 1971 │ V (5)       │ Baltimore Colts      │ … │ Orange Bowl          │ Miami           │ Florida    │\n",
       "│ Jan 11 1970 │ IV (4)      │ Kansas City Chiefs   │ … │ Tulane Stadium       │ New Orleans     │ Louisiana  │\n",
       "│ Jan 12 1969 │ III (3)     │ New York Jets        │ … │ Orange Bowl          │ Miami           │ Florida    │\n",
       "│ Jan 14 1968 │ II (2)      │ Green Bay Packers    │ … │ Orange Bowl          │ Miami           │ Florida    │\n",
       "│ Jan 15 1967 │ I (1)       │ Green Bay Packers    │ … │ Memorial Coliseum    │ Los Angeles     │ California │\n",
       "├─────────────┴─────────────┴──────────────────────┴───┴──────────────────────┴─────────────────┴────────────┤\n",
       "│ 54 rows (20 shown)                                                                    10 columns (6 shown) │\n",
       "└────────────────────────────────────────────────────────────────────────────────────────────────────────────┘"
      ]
     },
     "execution_count": 74,
     "metadata": {},
     "output_type": "execute_result"
    }
   ],
   "source": [
    "duckdb.sql(\"SELECT * FROM 'data/superbowl.csv'\")"
   ]
  },
  {
   "cell_type": "code",
   "execution_count": 75,
   "metadata": {},
   "outputs": [],
   "source": [
    "con = duckdb.connect(\"data/superbowl.duckdb\")"
   ]
  },
  {
   "cell_type": "code",
   "execution_count": 76,
   "metadata": {},
   "outputs": [],
   "source": [
    "#con.sql(\"CREATE TABLE tbl_super_bowl AS SELECT * FROM 'data/superbowl.csv'\")"
   ]
  },
  {
   "cell_type": "code",
   "execution_count": 77,
   "metadata": {},
   "outputs": [
    {
     "name": "stdout",
     "output_type": "stream",
     "text": [
      "┌─────────────┬─────────────┬──────────────────────┬───┬──────────────────────┬─────────────────┬────────────┐\n",
      "│    Date     │     SB      │        Winner        │ … │       Stadium        │      City       │   State    │\n",
      "│   varchar   │   varchar   │       varchar        │   │       varchar        │     varchar     │  varchar   │\n",
      "├─────────────┼─────────────┼──────────────────────┼───┼──────────────────────┼─────────────────┼────────────┤\n",
      "│ Feb 2 2020  │ LIV (54)    │ Kansas City Chiefs   │ … │ Hard Rock Stadium    │ Miami Gardens   │ Florida    │\n",
      "│ Feb 3 2019  │ LIII (53)   │ New England Patriots │ … │ Mercedes-Benz Stad…  │ Atlanta         │ Georgia    │\n",
      "│ Feb 4 2018  │ LII (52)    │ Philadelphia Eagles  │ … │ U.S. Bank Stadium    │ Minneapolis     │ Minnesota  │\n",
      "│ Feb 5 2017  │ LI (51)     │ New England Patriots │ … │ NRG Stadium          │ Houston         │ Texas      │\n",
      "│ Feb 7 2016  │ 50          │ Denver Broncos       │ … │ Levi's Stadium       │ Santa Clara     │ California │\n",
      "│ Feb 1 2015  │ XLIX (49)   │ New England Patriots │ … │ University of Phoe…  │ Glendale        │ Arizona    │\n",
      "│ Feb 2 2014  │ XLVIII (48) │ Seattle Seahawks     │ … │ MetLife Stadium      │ East Rutherford │ New Jersey │\n",
      "│ Feb 3 2013  │ XLVII (47)  │ Baltimore Ravens     │ … │ Mercedes-Benz Supe…  │ New Orleans     │ Louisiana  │\n",
      "│ Feb 5 2012  │ XLVI (46)   │ New York Giants      │ … │ Lucas Oil Stadium    │ Indianapolis    │ Indiana    │\n",
      "│ Feb 6 2011  │ XLV (45)    │ Green Bay Packers    │ … │ Cowboys Stadium      │ Arlington       │ Texas      │\n",
      "│     ·       │   ·         │         ·            │ · │      ·               │   ·             │   ·        │\n",
      "│     ·       │   ·         │         ·            │ · │      ·               │   ·             │   ·        │\n",
      "│     ·       │   ·         │         ·            │ · │      ·               │   ·             │   ·        │\n",
      "│ Jan 18 1976 │ X (10)      │ Pittsburgh Steelers  │ … │ Orange Bowl          │ Miami           │ Florida    │\n",
      "│ Jan 12 1975 │ IX (9)      │ Pittsburgh Steelers  │ … │ Tulane Stadium       │ New Orleans     │ Louisiana  │\n",
      "│ Jan 13 1974 │ VIII (8)    │ Miami Dolphins       │ … │ Rice Stadium         │ Houston         │ Texas      │\n",
      "│ Jan 14 1973 │ VII (7)     │ Miami Dolphins       │ … │ Memorial Coliseum    │ Los Angeles     │ California │\n",
      "│ Jan 16 1972 │ VI (6)      │ Dallas Cowboys       │ … │ Tulane Stadium       │ New Orleans     │ Louisiana  │\n",
      "│ Jan 17 1971 │ V (5)       │ Baltimore Colts      │ … │ Orange Bowl          │ Miami           │ Florida    │\n",
      "│ Jan 11 1970 │ IV (4)      │ Kansas City Chiefs   │ … │ Tulane Stadium       │ New Orleans     │ Louisiana  │\n",
      "│ Jan 12 1969 │ III (3)     │ New York Jets        │ … │ Orange Bowl          │ Miami           │ Florida    │\n",
      "│ Jan 14 1968 │ II (2)      │ Green Bay Packers    │ … │ Orange Bowl          │ Miami           │ Florida    │\n",
      "│ Jan 15 1967 │ I (1)       │ Green Bay Packers    │ … │ Memorial Coliseum    │ Los Angeles     │ California │\n",
      "├─────────────┴─────────────┴──────────────────────┴───┴──────────────────────┴─────────────────┴────────────┤\n",
      "│ 54 rows (20 shown)                                                                    10 columns (6 shown) │\n",
      "└────────────────────────────────────────────────────────────────────────────────────────────────────────────┘\n",
      "\n"
     ]
    }
   ],
   "source": [
    "con.table(\"tbl_super_bowl\").show()"
   ]
  },
  {
   "cell_type": "code",
   "execution_count": 78,
   "metadata": {},
   "outputs": [
    {
     "data": {
      "text/plain": [
       "┌────────────────┐\n",
       "│      name      │\n",
       "│    varchar     │\n",
       "├────────────────┤\n",
       "│ tbl_super_bowl │\n",
       "└────────────────┘"
      ]
     },
     "execution_count": 78,
     "metadata": {},
     "output_type": "execute_result"
    }
   ],
   "source": [
    "con.sql(\"SHOW TABLES;\")"
   ]
  },
  {
   "cell_type": "code",
   "execution_count": 79,
   "metadata": {},
   "outputs": [
    {
     "data": {
      "text/plain": [
       "┌─────────────┬─────────────┬─────────┬─────────┬─────────┬─────────┐\n",
       "│ column_name │ column_type │  null   │   key   │ default │  extra  │\n",
       "│   varchar   │   varchar   │ varchar │ varchar │ varchar │ varchar │\n",
       "├─────────────┼─────────────┼─────────┼─────────┼─────────┼─────────┤\n",
       "│ Date        │ VARCHAR     │ YES     │ NULL    │ NULL    │ NULL    │\n",
       "│ SB          │ VARCHAR     │ YES     │ NULL    │ NULL    │ NULL    │\n",
       "│ Winner      │ VARCHAR     │ YES     │ NULL    │ NULL    │ NULL    │\n",
       "│ Winner Pts  │ BIGINT      │ YES     │ NULL    │ NULL    │ NULL    │\n",
       "│ Loser       │ VARCHAR     │ YES     │ NULL    │ NULL    │ NULL    │\n",
       "│ Loser Pts   │ BIGINT      │ YES     │ NULL    │ NULL    │ NULL    │\n",
       "│ MVP         │ VARCHAR     │ YES     │ NULL    │ NULL    │ NULL    │\n",
       "│ Stadium     │ VARCHAR     │ YES     │ NULL    │ NULL    │ NULL    │\n",
       "│ City        │ VARCHAR     │ YES     │ NULL    │ NULL    │ NULL    │\n",
       "│ State       │ VARCHAR     │ YES     │ NULL    │ NULL    │ NULL    │\n",
       "├─────────────┴─────────────┴─────────┴─────────┴─────────┴─────────┤\n",
       "│ 10 rows                                                 6 columns │\n",
       "└───────────────────────────────────────────────────────────────────┘"
      ]
     },
     "execution_count": 79,
     "metadata": {},
     "output_type": "execute_result"
    }
   ],
   "source": [
    "# %%\n",
    "con.sql(\"DESCRIBE TABLE tbl_super_bowl;\")"
   ]
  },
  {
   "cell_type": "code",
   "execution_count": 80,
   "metadata": {},
   "outputs": [
    {
     "data": {
      "text/plain": [
       "┌──────────────────────┬─────────┐\n",
       "│        Winner        │ titulos │\n",
       "│       varchar        │  int64  │\n",
       "├──────────────────────┼─────────┤\n",
       "│ Pittsburgh Steelers  │       6 │\n",
       "│ New England Patriots │       6 │\n",
       "│ San Francisco 49ers  │       5 │\n",
       "│ Dallas Cowboys       │       5 │\n",
       "│ Green Bay Packers    │       4 │\n",
       "│ New York Giants      │       4 │\n",
       "│ Washington Redskins  │       3 │\n",
       "│ Denver Broncos       │       3 │\n",
       "│ Oakland Raiders      │       2 │\n",
       "│ Kansas City Chiefs   │       2 │\n",
       "│ Baltimore Ravens     │       2 │\n",
       "│ Miami Dolphins       │       2 │\n",
       "│ Philadelphia Eagles  │       1 │\n",
       "│ New Orleans Saints   │       1 │\n",
       "│ Seattle Seahawks     │       1 │\n",
       "│ Los Angeles Raiders  │       1 │\n",
       "│ St. Louis Rams       │       1 │\n",
       "│ Tampa Bay Buccaneers │       1 │\n",
       "│ Chicago Bears        │       1 │\n",
       "│ New York Jets        │       1 │\n",
       "│ Indianapolis Colts   │       1 │\n",
       "│ Baltimore Colts      │       1 │\n",
       "├──────────────────────┴─────────┤\n",
       "│ 22 rows              2 columns │\n",
       "└────────────────────────────────┘"
      ]
     },
     "execution_count": 80,
     "metadata": {},
     "output_type": "execute_result"
    }
   ],
   "source": [
    "duckdb.sql(\"SELECT winner, count(*) as titulos FROM 'data/superbowl.csv' group by winner order by titulos desc\")"
   ]
  },
  {
   "cell_type": "code",
   "execution_count": 83,
   "metadata": {},
   "outputs": [
    {
     "data": {
      "text/plain": [
       "┌──────────────────────┬─────────┐\n",
       "│        Winner        │ titulos │\n",
       "│       varchar        │  int64  │\n",
       "├──────────────────────┼─────────┤\n",
       "│ Pittsburgh Steelers  │       6 │\n",
       "│ New England Patriots │       6 │\n",
       "│ San Francisco 49ers  │       5 │\n",
       "│ Dallas Cowboys       │       5 │\n",
       "│ Green Bay Packers    │       4 │\n",
       "│ New York Giants      │       4 │\n",
       "└──────────────────────┴─────────┘"
      ]
     },
     "execution_count": 83,
     "metadata": {},
     "output_type": "execute_result"
    }
   ],
   "source": [
    "duckdb.sql(\"SELECT winner, count(*) as titulos FROM 'data/superbowl.csv' group by winner having count(*) > 3 order by titulos desc\")"
   ]
  },
  {
   "cell_type": "code",
   "execution_count": 84,
   "metadata": {},
   "outputs": [],
   "source": [
    "con.close()"
   ]
  }
 ],
 "metadata": {
  "kernelspec": {
   "display_name": "nfl-sp-Vumnl66J-py3.10",
   "language": "python",
   "name": "python3"
  },
  "language_info": {
   "codemirror_mode": {
    "name": "ipython",
    "version": 3
   },
   "file_extension": ".py",
   "mimetype": "text/x-python",
   "name": "python",
   "nbconvert_exporter": "python",
   "pygments_lexer": "ipython3",
   "version": "3.10.12"
  }
 },
 "nbformat": 4,
 "nbformat_minor": 2
}
